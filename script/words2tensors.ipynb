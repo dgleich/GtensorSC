{
 "cells": [
  {
   "cell_type": "code",
   "execution_count": null,
   "metadata": {
    "collapsed": false
   },
   "outputs": [],
   "source": [
    "import os\n",
    "import math\n",
    "import itertools\n",
    "CUR_DIR = os.getcwd()\n",
    "DATA_DIR = CUR_DIR + \"/../data/\"\n",
    "FILE_NAME = [\"w2_.txt\", \"w3_.txt\", \"w4_.txt\",\"w5_.txt\"]\n",
    "TENSOR_DIM = [2,3,4,5]"
   ]
  },
  {
   "cell_type": "code",
   "execution_count": null,
   "metadata": {
    "collapsed": false
   },
   "outputs": [],
   "source": [
    "def get_word_dic(textFile, n):\n",
    "    wordDic = {}; index = 1\n",
    "    f = open(textFile,'r')\n",
    "    oneline = f.readline()\n",
    "    while (oneline!=\"\"):\n",
    "        entry = oneline.split()\n",
    "        for i in range(n):\n",
    "            if entry[i+1] not in wordDic:\n",
    "                wordDic[entry[i+1]] = index\n",
    "                index += 1\n",
    "        oneline = f.readline()\n",
    "    return wordDic"
   ]
  },
  {
   "cell_type": "code",
   "execution_count": null,
   "metadata": {
    "collapsed": false
   },
   "outputs": [],
   "source": [
    "def get_tensor_dic(textFile, wordDic, n):\n",
    "    tensorDic = {}\n",
    "    f = open(textFile,'r')\n",
    "    oneline = f.readline()\n",
    "    while(oneline!=\"\"):\n",
    "        tempList = []\n",
    "        entry = oneline.split()\n",
    "        for i in range(n):\n",
    "            tempList.append(wordDic[ entry[i+1] ])\n",
    "        tensorDic[tuple(tempList)] = int(entry[0])\n",
    "        oneline = f.readline()\n",
    "    return tensorDic"
   ]
  },
  {
   "cell_type": "code",
   "execution_count": null,
   "metadata": {
    "collapsed": false
   },
   "outputs": [],
   "source": [
    "def get_data_dic(tensorDic, n):\n",
    "    dataDic = {}\n",
    "    \n",
    "    flagDic = {}\n",
    "    for item in tensorDic:\n",
    "        flagDic[item] = False\n",
    "        \n",
    "    for item in tensorDic:\n",
    "        if flagDic[item] is True:\n",
    "            continue\n",
    "        flagDic[item] = True\n",
    "        ip = itertools.permutations(item)\n",
    "        tSum = 0\n",
    "        for ipItem in ip:\n",
    "            if ipItem in tensorDic:\n",
    "                tSum += tensorDic[ipItem]\n",
    "                flagDic[ipItem] = True\n",
    "            \n",
    "        ip = itertools.permutations(item)\n",
    "        for ipItem in ip:\n",
    "            dataDic[ipItem] = tSum\n",
    "    \n",
    "    return dataDic"
   ]
  },
  {
   "cell_type": "code",
   "execution_count": null,
   "metadata": {
    "collapsed": true
   },
   "outputs": [],
   "source": [
    "def print_file(textFile, dicFile, dataDic, wordDic, n):\n",
    "    \n",
    "    f = open(textFile,'w')\n",
    "    f.write(\"# This is the \"+str(n)+\"-gram data from http://www.ngrams.info/intro.asp\\n\")\n",
    "    f.write(\"# The last column is the tensor value, and other columns are tensor indices\\n\")\n",
    "    for item in dataDic:\n",
    "        tempList = []\n",
    "        for num in item:\n",
    "            tempList.append(str(num))\n",
    "        indStr = '  '.join(tempList)\n",
    "        f.write(indStr + \"  \" + str(dataDic[item]) + \"\\n\")\n",
    "    f.close()\n",
    "    \n",
    "    f = open(dicFile,'w')\n",
    "    f.write(\"# This is the \"+str(n)+\"-gram data from http://www.ngrams.info/intro.asp\\n\")\n",
    "    f.write(\"# Each line denotes a word and its corrsponding index\\n\")\n",
    "    for item in wordDic:\n",
    "        f.write(item + \"  \" + str(wordDic[item]) + \"\\n\")\n",
    "    f.close()"
   ]
  },
  {
   "cell_type": "code",
   "execution_count": null,
   "metadata": {
    "collapsed": false
   },
   "outputs": [],
   "source": [
    "def normalize_data(dataDic):\n",
    "    colDic = {}; flagDic = {}\n",
    "    for item in dataDic:\n",
    "        flagDic[item] = False\n",
    "        key = item[1:]\n",
    "        if key not in colDic:\n",
    "            colDic[key] = [item[0]]\n",
    "        else:\n",
    "            colDic[key].append(item[0])\n",
    "    \n",
    "    for item in dataDic:\n",
    "        if flagDic[item] is True:\n",
    "            continue\n",
    "        key = item[1:]; tSum = 0\n",
    "        for firstInd in colDic[key]:\n",
    "            tSum += dataDic[(firstInd,)+key]\n",
    "        for firstInd in colDic[key]:\n",
    "            tempKey = (firstInd,)+key\n",
    "            dataDic[tempKey] = (dataDic[tempKey]+0.00)/tSum\n",
    "            flagDic[tempKey] = True"
   ]
  },
  {
   "cell_type": "code",
   "execution_count": null,
   "metadata": {
    "collapsed": false
   },
   "outputs": [],
   "source": [
    "def process_data(i):\n",
    "    textFile = DATA_DIR + FILE_NAME[i]\n",
    "    wordDic = get_word_dic(textFile,TENSOR_DIM[i])\n",
    "    tensorDic = get_tensor_dic(textFile, wordDic, TENSOR_DIM[i])\n",
    "    dataDic = get_data_dic(tensorDic, TENSOR_DIM[i])\n",
    "    normalize_data(dataDic)\n",
    "    \n",
    "    print_file(DATA_DIR+\"tensor_\"+FILE_NAME[i], DATA_DIR+\"dic_\"+FILE_NAME[i], dataDic, wordDic, TENSOR_DIM[i])\n",
    "\n",
    "process_data(0)\n",
    "process_data(1)\n",
    "process_data(2)"
   ]
  },
  {
   "cell_type": "code",
   "execution_count": null,
   "metadata": {
    "collapsed": false
   },
   "outputs": [],
   "source": []
  },
  {
   "cell_type": "code",
   "execution_count": null,
   "metadata": {
    "collapsed": true
   },
   "outputs": [],
   "source": []
  }
 ],
 "metadata": {
  "kernelspec": {
   "display_name": "Python 2",
   "language": "python",
   "name": "python2"
  },
  "language_info": {
   "codemirror_mode": {
    "name": "ipython",
    "version": 2
   },
   "file_extension": ".py",
   "mimetype": "text/x-python",
   "name": "python",
   "nbconvert_exporter": "python",
   "pygments_lexer": "ipython2",
   "version": "2.7.10"
  }
 },
 "nbformat": 4,
 "nbformat_minor": 0
}
