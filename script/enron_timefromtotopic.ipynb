{
 "cells": [
  {
   "cell_type": "code",
   "execution_count": 31,
   "metadata": {
    "collapsed": true
   },
   "outputs": [],
   "source": [
    "import os\n",
    "import math\n",
    "import itertools\n",
    "import datetime\n",
    "CUR_DIR = os.getcwd()\n",
    "DATA_DIR = CUR_DIR + \"/../data/raw/\"\n",
    "FILE_NAME = \"execs.email.linesnum.ldctopic.txt\"\n",
    "WRITE_NAME = \"day_execs.email.linesnum.ldctopic.txt\"\n",
    "#WRITE_NAME = \"week_execs.email.linesnum.ldctopic.txt\""
   ]
  },
  {
   "cell_type": "code",
   "execution_count": 32,
   "metadata": {
    "collapsed": true
   },
   "outputs": [],
   "source": [
    "f = open(DATA_DIR+FILE_NAME,'r')\n",
    "g = open(DATA_DIR+WRITE_NAME, 'w')\n",
    "oneline = f.readline();oneline = f.readline()\n",
    "while(oneline!=\"\"):\n",
    "    entry = oneline.split()\n",
    "    curTime = datetime.datetime.fromtimestamp(int(entry[1])).strftime('%Y-%m-%d')\n",
    "    g.write(curTime+' '+ str(int(entry[1])/86400) + ' '+str(int(entry[2])+1)+' '+str(int(entry[3])+1) + ' ' + entry[4] + '\\n')\n",
    "    #g.write(curTime+' '+ str((int(entry[1])+345600)/604800) + ' '+str(int(entry[2])+1)+' '+str(int(entry[3])+1) + ' ' + entry[4] + '\\n')\n",
    "    oneline = f.readline()\n",
    "g.close()\n",
    "f.close()"
   ]
  },
  {
   "cell_type": "code",
   "execution_count": 33,
   "metadata": {
    "collapsed": true
   },
   "outputs": [],
   "source": [
    "f = open(DATA_DIR+WRITE_NAME,'r')\n",
    "oneline = f.readline()\n",
    "indexList = [[],[],[],[]]\n",
    "while(oneline!=\"\"):\n",
    "    entry = oneline.split()\n",
    "    for i in range(4):\n",
    "        indexList[i].append(int(entry[i+1]))\n",
    "    oneline = f.readline()\n",
    "f.close()"
   ]
  },
  {
   "cell_type": "code",
   "execution_count": 34,
   "metadata": {
    "collapsed": true
   },
   "outputs": [],
   "source": [
    "n = len(indexList[1])\n",
    "m = max(indexList[1])\n",
    "tempMap = [i+1 for i in range(m)]\n",
    "ind = m-1\n",
    "for i in range(n):\n",
    "    tempVal = indexList[0][i]\n",
    "    if tempMap[ind]!=tempVal:\n",
    "        tempMap.append(tempVal)\n",
    "        ind += 1\n",
    "        \n",
    "topicMin= min(indexList[3]);topicMax = max(indexList[3])\n",
    "topicMap = {}\n",
    "l = len(tempMap)\n",
    "for i in range(topicMin, topicMax+1):\n",
    "    topicMap[i] = l+(i-topicMin+1)\n",
    "    \n",
    "indexMap = {}\n",
    "for i in range(len(tempMap)):\n",
    "    indexMap[tempMap[i]] = i+1"
   ]
  },
  {
   "cell_type": "code",
   "execution_count": 35,
   "metadata": {
    "collapsed": false
   },
   "outputs": [],
   "source": [
    "def get_tensor_dic(textFile, n):\n",
    "    tensorDic = {}\n",
    "    f = open(textFile,'r')\n",
    "    oneline = f.readline()\n",
    "    while(oneline!=\"\"):\n",
    "        tempList = []\n",
    "        entry = oneline.split()\n",
    "        for i in range(n-1):\n",
    "            tempList.append(indexMap[int(entry[i+1])])\n",
    "        tempList.append(topicMap[int(entry[n])])\n",
    "        tempTuple = tuple(tempList)\n",
    "        if tempTuple not in tensorDic:\n",
    "            tensorDic[tempTuple] = 1\n",
    "        else:\n",
    "            tensorDic[tempTuple] += 1\n",
    "        oneline = f.readline()\n",
    "    return tensorDic\n",
    "    f.close()"
   ]
  },
  {
   "cell_type": "code",
   "execution_count": 36,
   "metadata": {
    "collapsed": true
   },
   "outputs": [],
   "source": [
    "def get_data_dic(tensorDic):\n",
    "    dataDic = {}\n",
    "    \n",
    "    flagDic = {}\n",
    "    for item in tensorDic:\n",
    "        flagDic[item] = False\n",
    "        \n",
    "    for item in tensorDic:\n",
    "        if flagDic[item] is True:\n",
    "            continue\n",
    "        flagDic[item] = True\n",
    "        ip = itertools.permutations(item)\n",
    "        tSum = 0\n",
    "        for ipItem in ip:\n",
    "            if ipItem in tensorDic:\n",
    "                tSum += tensorDic[ipItem]\n",
    "                flagDic[ipItem] = True\n",
    "            \n",
    "        ip = itertools.permutations(item)\n",
    "        for ipItem in ip:\n",
    "            dataDic[ipItem] = tSum\n",
    "    \n",
    "    return dataDic"
   ]
  },
  {
   "cell_type": "code",
   "execution_count": 37,
   "metadata": {
    "collapsed": true
   },
   "outputs": [],
   "source": [
    "def get_data_dic(tensorDic):\n",
    "    dataDic = {}\n",
    "    \n",
    "    flagDic = {}\n",
    "    for item in tensorDic:\n",
    "        flagDic[item] = False\n",
    "        \n",
    "    for item in tensorDic:\n",
    "        if flagDic[item] is True:\n",
    "            continue\n",
    "        flagDic[item] = True\n",
    "        ip = itertools.permutations(item)\n",
    "        tSum = 0\n",
    "        for ipItem in ip:\n",
    "            if ipItem in tensorDic:\n",
    "                tSum += tensorDic[ipItem]\n",
    "                flagDic[ipItem] = True\n",
    "            \n",
    "        ip = itertools.permutations(item)\n",
    "        for ipItem in ip:\n",
    "            dataDic[ipItem] = tSum\n",
    "    \n",
    "    return dataDic"
   ]
  },
  {
   "cell_type": "code",
   "execution_count": 38,
   "metadata": {
    "collapsed": false
   },
   "outputs": [],
   "source": [
    "tensorDic = get_tensor_dic(DATA_DIR+WRITE_NAME, 4)\n",
    "dataDic = get_data_dic(tensorDic)"
   ]
  },
  {
   "cell_type": "code",
   "execution_count": 39,
   "metadata": {
    "collapsed": false
   },
   "outputs": [],
   "source": [
    "def print_file(textFile, dataDic, n):\n",
    "    \n",
    "    f = open(textFile,'w')\n",
    "    f.write(\"# This is the enron (time, from, to, topic) tensor from http://www.cis.jhu.edu/~parky/Enron \\n\")\n",
    "    f.write(\"# The last column is the tensor value, and other columns are tensor indices\\n\")\n",
    "    for item in dataDic:\n",
    "        tempList = []\n",
    "        for num in item:\n",
    "            tempList.append(str(num))\n",
    "        indStr = '  '.join(tempList)\n",
    "        f.write(indStr + \"  \" + str(dataDic[item]) + \"\\n\")\n",
    "    f.close()"
   ]
  },
  {
   "cell_type": "code",
   "execution_count": 40,
   "metadata": {
    "collapsed": true
   },
   "outputs": [],
   "source": [
    "print_file(DATA_DIR+\"/../timeday_from_to_topic.txt\", dataDic, 4)\n",
    "#print_file(DATA_DIR+\"/../timeweek_from_to_topic.txt\", dataDic, 4)"
   ]
  },
  {
   "cell_type": "code",
   "execution_count": 41,
   "metadata": {
    "collapsed": false
   },
   "outputs": [],
   "source": [
    "def normalize_data(dataDic):\n",
    "    colDic = {}; flagDic = {}\n",
    "    for item in dataDic:\n",
    "        flagDic[item] = False\n",
    "        key = item[1:]\n",
    "        if key not in colDic:\n",
    "            colDic[key] = [item[0]]\n",
    "        else:\n",
    "            colDic[key].append(item[0])\n",
    "    \n",
    "    for item in dataDic:\n",
    "        if flagDic[item] is True:\n",
    "            continue\n",
    "        key = item[1:]; tSum = 0\n",
    "        for firstInd in colDic[key]:\n",
    "            tSum += dataDic[(firstInd,)+key]\n",
    "        for firstInd in colDic[key]:\n",
    "            tempKey = (firstInd,)+key\n",
    "            dataDic[tempKey] = (dataDic[tempKey]+0.00)/tSum\n",
    "            flagDic[tempKey] = True"
   ]
  },
  {
   "cell_type": "code",
   "execution_count": 42,
   "metadata": {
    "collapsed": true
   },
   "outputs": [],
   "source": [
    "normalize_data(dataDic)\n",
    "print_file(DATA_DIR+\"/../ntimeday_from_to_topic.txt\", dataDic, 4)\n",
    "#print_file(DATA_DIR+\"/../ntimeweek_from_to_topic.txt\", dataDic, 4)"
   ]
  },
  {
   "cell_type": "code",
   "execution_count": 43,
   "metadata": {
    "collapsed": true
   },
   "outputs": [],
   "source": [
    "f = open(DATA_DIR+\"/../dic_timeday_from_to_topic.txt\",'w')\n",
    "#f = open(DATA_DIR+\"/../dic_timeweek_from_to_topic.txt\",'w')\n",
    "f.write(\"# This is the enron (time, from, to, topic) tensor from http://www.cis.jhu.edu/~parky/Enron \\n\")\n",
    "f.write(\"# Each line denotes a word and its corrsponding index\\n\")\n",
    "for item in indexMap:\n",
    "    f.write(str(item) + \"  \" + str(indexMap[item]) + \"\\n\")\n",
    "for item in topicMap:\n",
    "    f.write(str(item) + \"  \" + str(topicMap[item]) + \"\\n\")\n",
    "f.close()"
   ]
  },
  {
   "cell_type": "code",
   "execution_count": null,
   "metadata": {
    "collapsed": true
   },
   "outputs": [],
   "source": []
  }
 ],
 "metadata": {
  "kernelspec": {
   "display_name": "Python 2",
   "language": "python",
   "name": "python2"
  },
  "language_info": {
   "codemirror_mode": {
    "name": "ipython",
    "version": 2
   },
   "file_extension": ".py",
   "mimetype": "text/x-python",
   "name": "python",
   "nbconvert_exporter": "python",
   "pygments_lexer": "ipython2",
   "version": "2.7.10"
  }
 },
 "nbformat": 4,
 "nbformat_minor": 0
}
