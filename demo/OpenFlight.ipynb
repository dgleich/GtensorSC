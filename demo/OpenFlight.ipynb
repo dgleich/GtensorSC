{
 "cells": [
  {
   "cell_type": "code",
   "execution_count": null,
   "metadata": {
    "collapsed": false
   },
   "outputs": [],
   "source": [
    "push!(LOAD_PATH, \"../\")\n",
    "include(\"../util.jl\")"
   ]
  },
  {
   "cell_type": "code",
   "execution_count": null,
   "metadata": {
    "collapsed": false,
    "scrolled": true
   },
   "outputs": [],
   "source": [
    "# demo for openFlight data\n",
    "\n",
    "# para is the parameters for the algorithm here we set ALPHA = 0.8, MIN_NUM = 5, MAX_NUM = 100, PHI = 0.4\n",
    "para = algPara(0.8, 5, 100,0.4)\n",
    "P = read_tensor(\"../data/openFlight/tensor_openflight.txt\");\n",
    "\n",
    "# the return value r is the binary tree for clustering results.\n",
    "(r,h) = tensor_speclustering(P, para);"
   ]
  },
  {
   "cell_type": "code",
   "execution_count": null,
   "metadata": {
    "collapsed": false,
    "scrolled": true
   },
   "outputs": [],
   "source": [
    "# load the openflight dic\n",
    "f = readdlm(\"../data/openFlight/dic_openflight.txt\");\n",
    "wordDic = [f[i,1] => string(int(f[i,2])) for i = 1:size(f,1)];\n",
    "\n",
    "airlineDic = Dict();\n",
    "tt = open(\"../data/openFlight/airline.txt\",\"r\")\n",
    "ss = readline(tt);\n",
    "while ss!=\"\"\n",
    "    nn = sizeof(ss)\n",
    "    i = 1\n",
    "    while ss[i]!='#'\n",
    "        i = i+1\n",
    "    end\n",
    "    id = ss[1:i-1]\n",
    "    dec = ss[i+1:nn-1]\n",
    "    airlineDic[id]=dec\n",
    "    ss = readline(tt)\n",
    "end\n",
    "\n",
    "\n",
    "airportDic = Dict();\n",
    "tt = open(\"../data/openFlight/airport.txt\",\"r\")\n",
    "ss = readline(tt);\n",
    "while ss!=\"\"\n",
    "    nn = sizeof(ss)\n",
    "    i = 1\n",
    "    while ss[i]!='#'\n",
    "        i = i+1\n",
    "    end\n",
    "    id = ss[1:i-1]\n",
    "    dec = ss[i+1:nn-1]\n",
    "    airportDic[id]=dec\n",
    "    ss = readline(tt)\n",
    "end"
   ]
  },
  {
   "cell_type": "code",
   "execution_count": null,
   "metadata": {
    "collapsed": false,
    "scrolled": true
   },
   "outputs": [],
   "source": [
    "indVec = zeros(r.n)\n",
    "traCount = trav_tree(r, indVec, 1)\n",
    "\n",
    "# print groups from start_num to end_num\n",
    "# This is the europe cluster\n",
    "start_num = 113; end_num = 125\n",
    "countLine = 0; countPort = 0;\n",
    "for i=start_num:end_num\n",
    "    for j=1:539\n",
    "        if indVec[j] == i\n",
    "            countLine+=1\n",
    "            println(airlineDic[string(wordDic[j])])\n",
    "        end\n",
    "    end\n",
    "    for j=540:3478\n",
    "        if indVec[j]==i\n",
    "            countPort+=1\n",
    "            println(airportDic[string(wordDic[j])])\n",
    "        end\n",
    "    end\n",
    "end\n",
    "println(\"Total airline is: $(countLine). Total airport is: $(countPort)\")"
   ]
  },
  {
   "cell_type": "code",
   "execution_count": null,
   "metadata": {
    "collapsed": true
   },
   "outputs": [],
   "source": [
    "# This is the US cluster\n",
    "start_num = 108; end_num = 112\n",
    "countLine = 0; countPort = 0;\n",
    "for i=start_num:end_num\n",
    "    for j=1:539\n",
    "        if indVec[j] == i\n",
    "            countLine+=1\n",
    "            println(airlineDic[string(wordDic[j])])\n",
    "        end\n",
    "    end\n",
    "    for j=540:3478\n",
    "        if indVec[j]==i\n",
    "            countPort+=1\n",
    "            println(airportDic[string(wordDic[j])])\n",
    "        end\n",
    "    end\n",
    "end\n",
    "println(\"Total airline is: $(countLine). Total airport is: $(countPort)\")"
   ]
  },
  {
   "cell_type": "code",
   "execution_count": null,
   "metadata": {
    "collapsed": true
   },
   "outputs": [],
   "source": []
  }
 ],
 "metadata": {
  "kernelspec": {
   "display_name": "Julia 0.4.0",
   "language": "julia",
   "name": "julia-0.4"
  },
  "language_info": {
   "file_extension": ".jl",
   "mimetype": "application/julia",
   "name": "julia",
   "version": "0.4.0"
  }
 },
 "nbformat": 4,
 "nbformat_minor": 0
}
