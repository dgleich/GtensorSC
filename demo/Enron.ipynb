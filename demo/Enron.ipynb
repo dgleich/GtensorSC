{
 "cells": [
  {
   "cell_type": "code",
   "execution_count": 1,
   "metadata": {
    "collapsed": false
   },
   "outputs": [
    {
     "data": {
      "text/plain": [
       "print_tree_word (generic function with 1 method)"
      ]
     },
     "execution_count": 1,
     "metadata": {},
     "output_type": "execute_result"
    }
   ],
   "source": [
    "# Please refer the README.md under the data folder for generating the data\n",
    "push!(LOAD_PATH, \"../\")\n",
    "include(\"../util.jl\")"
   ]
  },
  {
   "cell_type": "code",
   "execution_count": 4,
   "metadata": {
    "collapsed": false,
    "scrolled": true
   },
   "outputs": [
    {
     "name": "stdout",
     "output_type": "stream",
     "text": [
      "\n",
      "-----------calculating #1 cut----------\n",
      "\ttensor size 403 with 742692 non-zeros\n",
      "\tcomputing the super-spacey random surfer vector\n",
      "\tgenerating transition matrix: P[x]\n",
      "\tsolving the egenvector problem for P[x]\n",
      "\tgenerating the sweep_cut\n",
      "\tcalculate cuts\n",
      "-- split 403 into 381 and 22 --\n",
      "\n",
      "-----------calculating #2 cut----------\n",
      "\tprocess empty indices in sub-tensor\n",
      "\ttensor size 268 with 127392 non-zeros\n",
      "\tcomputing the super-spacey random surfer vector\n",
      "\tgenerating transition matrix: P[x]\n",
      "\tsolving the egenvector problem for P[x]\n",
      "\tgenerating the sweep_cut\n",
      "\tcalculate cuts\n",
      "-- split 268 into 213 and 55 --\n",
      "\n",
      "-----------calculating #3 cut----------\n",
      "\tprocess empty indices in sub-tensor\n",
      "\ttensor size 186 with 20328 non-zeros\n",
      "\tcomputing the super-spacey random surfer vector\n",
      "\tgenerating transition matrix: P[x]\n",
      "\tsolving the egenvector problem for P[x]\n",
      "\tgenerating the sweep_cut\n",
      "\tcalculate cuts\n",
      "-- split 186 into 185 and 1 --\n",
      "\n",
      "-----------calculating #4 cut----------\n",
      "\tprocess empty indices in sub-tensor\n",
      "\ttensor size 184 with 17844 non-zeros\n",
      "\tcomputing the super-spacey random surfer vector\n",
      "\tgenerating transition matrix: P[x]\n",
      "\tsolving the egenvector problem for P[x]\n",
      "\tgenerating the sweep_cut\n",
      "\tcalculate cuts\n",
      "-- split 184 into 126 and 58 --\n",
      "\n",
      "-----------calculating #5 cut----------\n",
      "\tprocess empty indices in sub-tensor\n",
      "\ttensor size 71 with 1488 non-zeros\n",
      "\tcomputing the super-spacey random surfer vector\n",
      "\tgenerating transition matrix: P[x]\n",
      "\tsolving the egenvector problem for P[x]\n",
      "\tgenerating the sweep_cut\n",
      "\tcalculate cuts\n",
      "-- split 71 into 52 and 19 --\n",
      "\n",
      "-----------calculating #6 cut----------\n",
      "\tprocess empty indices in sub-tensor\n",
      "\ttensor size 57 with 4104 non-zeros\n",
      "\tcomputing the super-spacey random surfer vector\n",
      "\tgenerating transition matrix: P[x]\n",
      "\tsolving the egenvector problem for P[x]\n",
      "\tgenerating the sweep_cut\n",
      "\tcalculate cuts\n",
      "-- split 57 into 55 and 2 --\n",
      "\n",
      "-----------calculating #7 cut----------\n",
      "\ttensor size 55 with 18696 non-zeros\n",
      "\tcomputing the super-spacey random surfer vector\n",
      "\tgenerating transition matrix: P[x]\n",
      "\tsolving the egenvector problem for P[x]\n",
      "\tgenerating the sweep_cut\n",
      "\tcalculate cuts\n",
      "-- split 55 into 35 and 20 --\n",
      "\n",
      "-----------calculating #8 cut----------\n",
      "\ttensor size 55 with 3492 non-zeros\n",
      "\tcomputing the super-spacey random surfer vector\n",
      "\tgenerating transition matrix: P[x]\n",
      "\tsolving the egenvector problem for P[x]\n",
      "\tgenerating the sweep_cut\n",
      "\tcalculate cuts\n",
      "-- split 55 into 46 and 9 --\n",
      "\n",
      "-----------calculating #9 cut----------\n",
      "\tprocess empty indices in sub-tensor\n",
      "\ttensor size 47 with 1044 non-zeros\n",
      "\tcomputing the super-spacey random surfer vector\n",
      "\tgenerating transition matrix: P[x]\n",
      "\tsolving the egenvector problem for P[x]\n",
      "\tgenerating the sweep_cut\n",
      "\tcalculate cuts\n",
      "-- split 47 into 24 and 23 --\n",
      "\n",
      "-----------calculating #10 cut----------\n",
      "\tprocess empty indices in sub-tensor\n",
      "\ttensor size 34 with 624 non-zeros\n",
      "\tcomputing the super-spacey random surfer vector\n",
      "\tgenerating transition matrix: P[x]\n",
      "\tsolving the egenvector problem for P[x]\n",
      "\tgenerating the sweep_cut\n",
      "\tcalculate cuts\n",
      "-- split 34 into 22 and 12 --\n",
      "\n",
      "-----------calculating #11 cut----------\n",
      "\tprocess empty indices in sub-tensor\n",
      "\ttensor size 21 with 648 non-zeros\n",
      "\tcomputing the super-spacey random surfer vector\n",
      "\tgenerating transition matrix: P[x]\n",
      "\tsolving the egenvector problem for P[x]\n",
      "\tgenerating the sweep_cut\n",
      "\tcalculate cuts\n",
      "did not cut the tensor as biased conductance (0.5666353027954939) > PHI\n",
      "\n",
      "-----------calculating #12 cut----------\n",
      "\tprocess empty indices in sub-tensor\n",
      "\ttensor size 23 with 384 non-zeros\n",
      "\tcomputing the super-spacey random surfer vector\n",
      "\tgenerating transition matrix: P[x]\n",
      "\tsolving the egenvector problem for P[x]\n",
      "\tgenerating the sweep_cut\n",
      "\tcalculate cuts\n",
      "did not cut the tensor as biased conductance (0.40548422823655533) > PHI\n",
      "\n",
      "-----------calculating #13 cut----------\n",
      "\tprocess empty indices in sub-tensor\n",
      "\ttensor size 14 with 204 non-zeros\n",
      "\tcomputing the super-spacey random surfer vector\n",
      "\tgenerating transition matrix: P[x]\n",
      "\tsolving the egenvector problem for P[x]\n",
      "\tgenerating the sweep_cut\n",
      "\tcalculate cuts\n",
      "did not cut the tensor as biased conductance (0.6027396449767055) > PHI\n",
      "\n",
      "-----------calculating #14 cut----------\n",
      "\tprocess empty indices in sub-tensor\n",
      "\ttensor size 19 with 312 non-zeros\n",
      "\tcomputing the super-spacey random surfer vector\n",
      "\tgenerating transition matrix: P[x]\n",
      "\tsolving the egenvector problem for P[x]\n",
      "\tgenerating the sweep_cut\n",
      "\tcalculate cuts\n",
      "did not cut the tensor as biased conductance (0.5573740839393589) > PHI\n",
      "\n",
      "-----------calculating #15 cut----------\n",
      "tensor size smaller than MIN_NUM\n",
      "\n",
      "-----------calculating #16 cut----------\n",
      "tensor size smaller than MIN_NUM\n",
      "\n",
      "-----------calculating #17 cut----------\n",
      "\ttensor size 19 with 276 non-zeros\n",
      "\tcomputing the super-spacey random surfer vector\n",
      "\tgenerating transition matrix: P[x]\n",
      "\tsolving the egenvector problem for P[x]\n",
      "\tgenerating the sweep_cut\n",
      "\tcalculate cuts\n",
      "did not cut the tensor as biased conductance (0.42675186768712076) > PHI\n",
      "\n",
      "-----------calculating #18 cut----------\n",
      "\ttensor size 12 with 144 non-zeros\n",
      "\tcomputing the super-spacey random surfer vector\n",
      "\tgenerating transition matrix: P[x]\n",
      "\tsolving the egenvector problem for P[x]\n",
      "\tgenerating the sweep_cut\n",
      "\tcalculate cuts\n",
      "did not cut the tensor as biased conductance (0.45463286148055504) > PHI\n",
      "\n",
      "-----------calculating #19 cut----------\n",
      "completed recursive two-way cut\n"
     ]
    }
   ],
   "source": [
    "# demo for 3gram data\n",
    "\n",
    "# para is the parameters for the algorithm here we set ALPHA = 0.8, MIN_NUM = 5, MAX_NUM = 100, PHI = 0.4\n",
    "para = algPara(0.8, 10, 50,0.4)\n",
    "P = read_tensor(\"../data/Enron/tensor_enron.txt\");\n",
    "\n",
    "# the return value r is the binary tree for clustering results.\n",
    "(r,h) = tensor_speclustering(P, para);\n",
    "\n",
    "# after the clustering algorithm completed, to output the clustering result\n",
    "# use the code: indVec = zeros(r.n); traCount = trav_tree(r, indVec, 1)\n",
    "# indVec then shows the group number for each node"
   ]
  },
  {
   "cell_type": "code",
   "execution_count": 5,
   "metadata": {
    "collapsed": false,
    "scrolled": true
   },
   "outputs": [
    {
     "name": "stdout",
     "output_type": "stream",
     "text": [
      "traverse tree\n"
     ]
    },
    {
     "data": {
      "text/plain": [
       "22-element Array{Float64,1}:\n",
       " 0.0522628 \n",
       " 0.0250936 \n",
       " 0.00127852\n",
       " 0.0937146 \n",
       " 0.0126318 \n",
       " 0.00336095\n",
       " 0.0615224 \n",
       " 0.0220042 \n",
       " 0.0315734 \n",
       " 0.0385019 \n",
       " 0.00752395\n",
       " 0.0332572 \n",
       " 0.00969685\n",
       " 0.0543634 \n",
       " 0.0396837 \n",
       " 0.0375908 \n",
       " 0.0075392 \n",
       " 0.0035993 \n",
       " 0.0599922 \n",
       " 0.110622  \n",
       " 0.0662011 \n",
       " 0.227986  "
      ]
     },
     "execution_count": 5,
     "metadata": {},
     "output_type": "execute_result"
    },
    {
     "name": "stdout",
     "output_type": "stream",
     "text": [
      "generating association matrix\n"
     ]
    }
   ],
   "source": [
    "# computing the polularity scores for clsuters\n",
    "gscore = group_score(P,r)"
   ]
  },
  {
   "cell_type": "code",
   "execution_count": 29,
   "metadata": {
    "collapsed": false
   },
   "outputs": [],
   "source": [
    "# load the dic file\n",
    "enronDic = Dict();\n",
    "tt = open(\"../data/Enron/dic_enron.txt\",\"r\")\n",
    "ss = readline(tt);\n",
    "while ss!=\"\"\n",
    "    nn = sizeof(ss)\n",
    "    i = 1\n",
    "    while ss[i]!=' '\n",
    "        i = i+1\n",
    "    end\n",
    "    id = ss[1:i-1]\n",
    "    dec = ss[i+1:nn-1]\n",
    "    enronDic[int(id)]=dec\n",
    "    ss = readline(tt)\n",
    "end"
   ]
  },
  {
   "cell_type": "code",
   "execution_count": 33,
   "metadata": {
    "collapsed": false,
    "scrolled": false
   },
   "outputs": [
    {
     "name": "stdout",
     "output_type": "stream",
     "text": [
      "-------------------- semantic value is 0.2279861801620349 -----------------\n"
     ]
    },
    {
     "data": {
      "text/plain": [
       "23"
      ]
     },
     "execution_count": 33,
     "metadata": {},
     "output_type": "execute_result"
    },
    {
     "name": "stdout",
     "output_type": "stream",
     "text": [
      "cut parameters are: Ptran = 0.028046876146271507, invPtran = 0.4107297136609209, Pvol = 0.06291682717479685\n",
      "number of total words are 22\n",
      "mark.haedicke\tMark Haedicke          Managing Director  Legal Department\n",
      "susan.scott\tSusan Scott            N/A\n",
      "stephanie.panus\tStephanie Panus        Employee\n",
      "richard.sanders\tRichard Sanders     Vice President    Enron WholeSale Services\n",
      "elizabeth.sager\tElizabeth Sager        Employee\n",
      "david.delainey\tDavid Delainey         CEO                Enron North America and Enron Enery Services\n",
      "jeffrey.hodge\tJohn Hodge          Managing Director\n",
      "steven.kean\tSteven Kean            Vice President     Vice President & Chief of Staff\n",
      "mike.grigsby\tMichael Grigsby         Manager\n",
      "james.steffes\tJames Steffes          Vice President     Government Affairs\n",
      "marie.heard\tMarie Heard         N/A\n",
      "richard.shapiro\tRichard Shapiro        Vice President     Regulatory Affairs\n",
      "susan.bailey\tSusan Bailey           N/A\n",
      "jeff.dasovich\tJeff Dasovich          Employee           Government Relation Executive\n",
      "topic 9 \n",
      "sara.shackleton\txxx\n",
      "louise.kitchen\tLouise Kitchen      President          Enron Online\n",
      "john.lavorato\tJohn Lavorato          CEO                Enron America\n",
      "topic -1\n",
      "mark.taylor\tMark Taylor            Employee\n",
      "tana.jones\tTana Jones             N/A\n",
      "topic 0 \n",
      "--------------------\n"
     ]
    }
   ],
   "source": [
    "# this function can print the clusters that have popularity score between the interval (semTol_low,semTol_up)\n",
    "# and number of words between (numTol_low, numTol_up)\n",
    "# by setting semTol_low = 0.2, semTol_up = 1 we print the cluster with highest score\n",
    "print_tree_word(r,gscore,1,enronDic, semTol_low = 0.2, semTol_up = 1, numTol_low = 0, numTol_up = 10000)"
   ]
  },
  {
   "cell_type": "code",
   "execution_count": 21,
   "metadata": {
    "collapsed": false
   },
   "outputs": [
    {
     "data": {
      "text/plain": [
       "(Int64,\"1\")"
      ]
     },
     "execution_count": 21,
     "metadata": {},
     "output_type": "execute_result"
    }
   ],
   "source": []
  },
  {
   "cell_type": "code",
   "execution_count": null,
   "metadata": {
    "collapsed": true
   },
   "outputs": [],
   "source": []
  }
 ],
 "metadata": {
  "kernelspec": {
   "display_name": "Julia 0.4.0",
   "language": "julia",
   "name": "julia-0.4"
  },
  "language_info": {
   "file_extension": ".jl",
   "mimetype": "application/julia",
   "name": "julia",
   "version": "0.4.0"
  }
 },
 "nbformat": 4,
 "nbformat_minor": 0
}
